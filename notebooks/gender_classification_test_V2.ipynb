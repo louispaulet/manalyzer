{
  "nbformat": 4,
  "nbformat_minor": 0,
  "metadata": {
    "colab": {
      "provenance": [],
      "collapsed_sections": [
        "3-f6E2i_w5g_"
      ]
    },
    "kernelspec": {
      "name": "python3",
      "display_name": "Python 3"
    },
    "language_info": {
      "name": "python"
    }
  },
  "cells": [
    {
      "cell_type": "markdown",
      "source": [
        "# 🌐 Multilingual Gender Classification with Zero-Shot Learning 🚀\n",
        "\n",
        "Welcome to this Google Colab notebook, where we demonstrate a multilingual gender classification task using a zero-shot learning approach. Our goal is to classify sentences into four categories: sentences with a male subject 👨, sentences with a female subject 👩, neutral sentences with an inanimate or non-gendered subject 🔄, and hybrid sentences containing both male and female subjects 👫.\n",
        "\n",
        "We use the Hugging Face Transformers library 🤗 to build a classification pipeline, leveraging a pre-trained zero-shot classifier model (BART Large MNLI). The classifier is applied to a small dataset of sentences in both English and Spanish 🌎 to evaluate its performance in determining the gender or neutrality of the subjects.\n",
        "\n",
        "The notebook also tackles the challenge of correctly identifying hybrid sentences containing multiple subjects of different genders. To address this, we perform a two-step classification process, first excluding neutral sentences and then classifying the remaining sentences as either single-gender or hybrid 🧩.\n",
        "\n",
        "We compute confusion matrices 📊 to assess the accuracy of the classifier in this task, enabling us to understand its effectiveness in differentiating between male, female, neutral, and hybrid subjects across multiple languages.\n",
        "\n",
        "Explore this notebook to learn how zero-shot learning can be applied to real-world classification tasks involving multiple languages and achieve remarkable results with minimal effort and data 🌟.\n"
      ],
      "metadata": {
        "id": "Xrwt98U9UM3z"
      }
    },
    {
      "cell_type": "markdown",
      "source": [
        "# install transformers lib"
      ],
      "metadata": {
        "id": "3-f6E2i_w5g_"
      }
    },
    {
      "cell_type": "code",
      "source": [
        "!pip install transformers"
      ],
      "metadata": {
        "colab": {
          "base_uri": "https://localhost:8080/"
        },
        "id": "u849MlQahRBF",
        "outputId": "f4236924-a359-48f3-9b08-40188f439e3d"
      },
      "execution_count": null,
      "outputs": [
        {
          "output_type": "stream",
          "name": "stdout",
          "text": [
            "Looking in indexes: https://pypi.org/simple, https://us-python.pkg.dev/colab-wheels/public/simple/\n",
            "Requirement already satisfied: transformers in /usr/local/lib/python3.9/dist-packages (4.27.3)\n",
            "Requirement already satisfied: numpy>=1.17 in /usr/local/lib/python3.9/dist-packages (from transformers) (1.22.4)\n",
            "Requirement already satisfied: requests in /usr/local/lib/python3.9/dist-packages (from transformers) (2.27.1)\n",
            "Requirement already satisfied: tokenizers!=0.11.3,<0.14,>=0.11.1 in /usr/local/lib/python3.9/dist-packages (from transformers) (0.13.2)\n",
            "Requirement already satisfied: tqdm>=4.27 in /usr/local/lib/python3.9/dist-packages (from transformers) (4.65.0)\n",
            "Requirement already satisfied: packaging>=20.0 in /usr/local/lib/python3.9/dist-packages (from transformers) (23.0)\n",
            "Requirement already satisfied: huggingface-hub<1.0,>=0.11.0 in /usr/local/lib/python3.9/dist-packages (from transformers) (0.13.3)\n",
            "Requirement already satisfied: filelock in /usr/local/lib/python3.9/dist-packages (from transformers) (3.10.1)\n",
            "Requirement already satisfied: regex!=2019.12.17 in /usr/local/lib/python3.9/dist-packages (from transformers) (2022.10.31)\n",
            "Requirement already satisfied: pyyaml>=5.1 in /usr/local/lib/python3.9/dist-packages (from transformers) (6.0)\n",
            "Requirement already satisfied: typing-extensions>=3.7.4.3 in /usr/local/lib/python3.9/dist-packages (from huggingface-hub<1.0,>=0.11.0->transformers) (4.5.0)\n",
            "Requirement already satisfied: charset-normalizer~=2.0.0 in /usr/local/lib/python3.9/dist-packages (from requests->transformers) (2.0.12)\n",
            "Requirement already satisfied: idna<4,>=2.5 in /usr/local/lib/python3.9/dist-packages (from requests->transformers) (3.4)\n",
            "Requirement already satisfied: certifi>=2017.4.17 in /usr/local/lib/python3.9/dist-packages (from requests->transformers) (2022.12.7)\n",
            "Requirement already satisfied: urllib3<1.27,>=1.21.1 in /usr/local/lib/python3.9/dist-packages (from requests->transformers) (1.26.15)\n"
          ]
        }
      ]
    },
    {
      "cell_type": "markdown",
      "source": [
        "# create simple dataset of gendered and neutral sentences"
      ],
      "metadata": {
        "id": "Id-Wmaduw88q"
      }
    },
    {
      "cell_type": "code",
      "source": [
        "# Define the sentences in each language\n",
        "male_sentences_en = [\"John is a great athlete.\", \"Bob loves to play video games.\", \"He is a doctor at the hospital.\", \"David is a great cook.\", \"My brother is an engineer.\"]\n",
        "female_sentences_en = [\"Samantha is a great dancer.\", \"Emily loves to read books.\", \"She is a teacher at the school.\", \"Laura is a great singer.\", \"My sister is a nurse.\"]\n",
        "neutral_sentences_en = [\"The sun is shining.\", \"The book is on the table.\", \"The car is parked outside.\", \"The tree is tall.\", \"The coffee is hot.\"]\n",
        "hybrid_sentences_en = [\"Alex and Taylor went to the store.\", \"Jordan and Kim are both in the same class.\", \"Sam and Jamie are best friends.\", \"Taylor and Jordan went on a hike together.\", \"Jordan and Alex work at the same company.\"]\n",
        "\n",
        "\n",
        "male_sentences_es = [\"Juan es un gran atleta.\", \"Roberto ama jugar videojuegos.\", \"Él es un doctor en el hospital.\", \"David es un gran cocinero.\", \"Mi hermano es un ingeniero.\"]\n",
        "female_sentences_es = [\"Samantha es una gran bailarina.\", \"Emily ama leer libros.\", \"Ella es una maestra en la escuela.\", \"Laura es una gran cantante.\", \"Mi hermana es una enfermera.\"]\n",
        "neutral_sentences_es = [\"El sol está brillando.\", \"El libro está en la mesa.\", \"El auto está estacionado afuera.\", \"El árbol es alto.\", \"El café está caliente.\"]\n",
        "hybrid_sentences_es = [\"Juan y Maria fueron al cine.\", \"Roberto y Sofia son amigos de la infancia.\", \"Ella y él trabajan en la misma empresa.\", \"David y Laura cocinaron juntos.\", \"Mi hermana y mi hermano son muy cercanos.\"]\n",
        "\n",
        "\n",
        "# Combine the sentences into a single list for each category\n",
        "male_sentences = male_sentences_en + male_sentences_es\n",
        "female_sentences = female_sentences_en + female_sentences_es\n",
        "neutral_sentences = neutral_sentences_en + neutral_sentences_es\n",
        "hybrid_sentences = hybrid_sentences_en + hybrid_sentences_es"
      ],
      "metadata": {
        "id": "e3DNvIfOGXqx"
      },
      "execution_count": null,
      "outputs": []
    },
    {
      "cell_type": "markdown",
      "source": [
        "# load classifier and classify on gender"
      ],
      "metadata": {
        "id": "hItGwHRBxAWC"
      }
    },
    {
      "cell_type": "markdown",
      "source": [
        "### deactivate warnings"
      ],
      "metadata": {
        "id": "t6nnlafGOeNQ"
      }
    },
    {
      "cell_type": "code",
      "source": [
        "import warnings\n",
        "# Set a global warning filter to ignore the UserWarning generated by the pipeline\n",
        "warnings.filterwarnings(\"ignore\", message=\"Length of IterableDataset\")"
      ],
      "metadata": {
        "id": "aECGRg_kOgvi"
      },
      "execution_count": null,
      "outputs": []
    },
    {
      "cell_type": "markdown",
      "source": [
        "### process dataset"
      ],
      "metadata": {
        "id": "iQstQ1_ROhrg"
      }
    },
    {
      "cell_type": "code",
      "source": [
        "from transformers import pipeline\n",
        "\n",
        "# Load the zero-shot classification pipeline\n",
        "classifier = pipeline(\"zero-shot-classification\", model='facebook/bart-large-mnli', tokenizer='facebook/bart-large-mnli')\n",
        "\n",
        "# Define the candidate labels for the classification task\n",
        "label_1 = \"human male subject\"\n",
        "label_2 = \"human female subject\"\n",
        "label_3 = \"neutral or inanimate subject\"\n",
        "\n",
        "candidate_labels = [label_1, label_2, label_3]\n",
        "\n",
        "# Classify the male sentences\n",
        "male_results = classifier(male_sentences, candidate_labels)\n",
        "\n",
        "# Classify the female sentences\n",
        "female_results = classifier(female_sentences, candidate_labels)\n",
        "\n",
        "# Classify the neutral sentences\n",
        "neutral_results = classifier(neutral_sentences, candidate_labels)\n"
      ],
      "metadata": {
        "id": "sRZo4nNGhPZE"
      },
      "execution_count": null,
      "outputs": []
    },
    {
      "cell_type": "markdown",
      "source": [
        "# Confusion Matrix"
      ],
      "metadata": {
        "id": "UDv57l7vQD7Y"
      }
    },
    {
      "cell_type": "code",
      "source": [
        "from sklearn.metrics import confusion_matrix\n",
        "\n",
        "# Combine the results into a single list of predictions and ground truth labels\n",
        "predictions = []\n",
        "labels = []\n",
        "for result, category in [(male_results, label_1), (female_results, label_2), (neutral_results, label_3)]:\n",
        "    for r in result:\n",
        "        predictions.append(r[\"labels\"][0])\n",
        "        labels.append(category)\n",
        "\n",
        "# Compute the confusion matrix\n",
        "cm = confusion_matrix(labels, predictions, labels=[label_1, label_2, label_3])\n",
        "print(cm)\n"
      ],
      "metadata": {
        "colab": {
          "base_uri": "https://localhost:8080/"
        },
        "id": "vnd2d9xVhW1q",
        "outputId": "26aaf633-a98e-44cf-c386-7ced7af41c02"
      },
      "execution_count": null,
      "outputs": [
        {
          "output_type": "stream",
          "name": "stdout",
          "text": [
            "[[10  0  0]\n",
            " [ 0 10  0]\n",
            " [ 0  0 10]]\n"
          ]
        }
      ]
    },
    {
      "cell_type": "markdown",
      "source": [
        "# Working examples\n",
        "\n",
        "The following examples follow the dataset logic."
      ],
      "metadata": {
        "id": "kdaVnZpvQHSS"
      }
    },
    {
      "cell_type": "code",
      "source": [
        "classifier(\"this is a simple test\", candidate_labels)['labels'][0]"
      ],
      "metadata": {
        "colab": {
          "base_uri": "https://localhost:8080/",
          "height": 35
        },
        "id": "2F1iviH3H3Fp",
        "outputId": "abe479e5-127d-4b44-fccb-c49da529f035"
      },
      "execution_count": null,
      "outputs": [
        {
          "output_type": "execute_result",
          "data": {
            "text/plain": [
              "'neutral or inanimate subject'"
            ],
            "application/vnd.google.colaboratory.intrinsic+json": {
              "type": "string"
            }
          },
          "metadata": {},
          "execution_count": 55
        }
      ]
    },
    {
      "cell_type": "code",
      "source": [
        "classifier(\"Sarah is a very nice person\", candidate_labels)['labels'][0]"
      ],
      "metadata": {
        "colab": {
          "base_uri": "https://localhost:8080/",
          "height": 35
        },
        "id": "QCEjJw1HINtq",
        "outputId": "65638ade-4b80-49c6-95ed-fde9068d9149"
      },
      "execution_count": null,
      "outputs": [
        {
          "output_type": "execute_result",
          "data": {
            "text/plain": [
              "'human female subject'"
            ],
            "application/vnd.google.colaboratory.intrinsic+json": {
              "type": "string"
            }
          },
          "metadata": {},
          "execution_count": 56
        }
      ]
    },
    {
      "cell_type": "code",
      "source": [
        "classifier(\"Nicolas is a very nice person\", candidate_labels)['labels'][0]"
      ],
      "metadata": {
        "colab": {
          "base_uri": "https://localhost:8080/",
          "height": 35
        },
        "id": "Uhzu0eoIIOKT",
        "outputId": "108d54a3-681e-4162-e1b8-7150cc61c1e4"
      },
      "execution_count": null,
      "outputs": [
        {
          "output_type": "execute_result",
          "data": {
            "text/plain": [
              "'human male subject'"
            ],
            "application/vnd.google.colaboratory.intrinsic+json": {
              "type": "string"
            }
          },
          "metadata": {},
          "execution_count": 57
        }
      ]
    },
    {
      "cell_type": "code",
      "source": [
        "classifier(\"il fait beau\", candidate_labels)['labels'][0]"
      ],
      "metadata": {
        "colab": {
          "base_uri": "https://localhost:8080/",
          "height": 35
        },
        "id": "zal3qsafIWky",
        "outputId": "aa1aa9e4-62ef-443c-89ba-39a2dac8eb65"
      },
      "execution_count": null,
      "outputs": [
        {
          "output_type": "execute_result",
          "data": {
            "text/plain": [
              "'neutral or inanimate subject'"
            ],
            "application/vnd.google.colaboratory.intrinsic+json": {
              "type": "string"
            }
          },
          "metadata": {},
          "execution_count": 58
        }
      ]
    },
    {
      "cell_type": "markdown",
      "source": [
        "# Multiple subjects problem\n",
        "\n",
        "When we have both male and female subjects, the sentence is misclassified: no \"hybrid\" label allows the pipeline to give the correct answer.  \n",
        "\n",
        "Adding a 4th label to the pipeline decreases result performance across the other labels.  \n",
        "\n",
        "We will have to run double inference on animate subjects:\n",
        "- if the sentece is neutral -> done\n",
        "- if the sentence is male or female -> check that only a single gender is present"
      ],
      "metadata": {
        "id": "QCHy-VoiIjEr"
      }
    },
    {
      "cell_type": "markdown",
      "source": [
        "Example of wrong label, the correct answer would be something like \"both male and female human subjects\""
      ],
      "metadata": {
        "id": "N7QvEfj4Qzrg"
      }
    },
    {
      "cell_type": "code",
      "source": [
        "classifier(\"Mesdames et messieurs les députés\", candidate_labels)['labels'][0]"
      ],
      "metadata": {
        "colab": {
          "base_uri": "https://localhost:8080/",
          "height": 35
        },
        "id": "vuywFjxzIY8e",
        "outputId": "d2de1851-02df-4a39-eec7-ab568e2e6304"
      },
      "execution_count": null,
      "outputs": [
        {
          "output_type": "execute_result",
          "data": {
            "text/plain": [
              "'human female subject'"
            ],
            "application/vnd.google.colaboratory.intrinsic+json": {
              "type": "string"
            }
          },
          "metadata": {},
          "execution_count": 59
        }
      ]
    },
    {
      "cell_type": "markdown",
      "source": [
        "# Phase 2: Filter again\n",
        "\n",
        "We exclude the neutral form and filter on multiple entities or single entities."
      ],
      "metadata": {
        "id": "UYOkrrF2uhlE"
      }
    },
    {
      "cell_type": "code",
      "source": [
        "# Define the candidate labels for phase 2\n",
        "label_1 = \"a single male subject\"\n",
        "label_2 = \"a single female subject\"\n",
        "label_3 = \"multiple human subjects\"\n",
        "\n",
        "candidate_labels = [label_1, label_2, label_3]"
      ],
      "metadata": {
        "id": "S_Nnz3-2RkQL"
      },
      "execution_count": null,
      "outputs": []
    },
    {
      "cell_type": "code",
      "source": [
        "# Classify the male sentences\n",
        "male_results = classifier(male_sentences, candidate_labels)\n",
        "\n",
        "# Classify the female sentences\n",
        "female_results = classifier(female_sentences, candidate_labels)\n",
        "\n",
        "# Classify the neutral sentences\n",
        "hybrid_results = classifier(hybrid_sentences, candidate_labels)\n"
      ],
      "metadata": {
        "id": "l17HezuDSHNT"
      },
      "execution_count": null,
      "outputs": []
    },
    {
      "cell_type": "code",
      "source": [
        "from sklearn.metrics import confusion_matrix\n",
        "\n",
        "# Combine the results into a single list of predictions and ground truth labels\n",
        "predictions = []\n",
        "labels = []\n",
        "for result, category in [(male_results, label_1), (female_results, label_2), (hybrid_results, label_3)]:\n",
        "    for r in result:\n",
        "        predictions.append(r[\"labels\"][0])\n",
        "        labels.append(category)\n",
        "\n",
        "# Compute the confusion matrix\n",
        "cm = confusion_matrix(labels, predictions, labels=[label_1, label_2, label_3])\n",
        "print(cm)\n"
      ],
      "metadata": {
        "colab": {
          "base_uri": "https://localhost:8080/"
        },
        "id": "GmbBH7S_SGoy",
        "outputId": "a621156c-170d-434f-ead2-33d811cca88c"
      },
      "execution_count": null,
      "outputs": [
        {
          "output_type": "stream",
          "name": "stdout",
          "text": [
            "[[10  0  0]\n",
            " [ 0 10  0]\n",
            " [ 0  0 10]]\n"
          ]
        }
      ]
    }
  ]
}