{
  "nbformat": 4,
  "nbformat_minor": 0,
  "metadata": {
    "colab": {
      "provenance": []
    },
    "kernelspec": {
      "name": "python3",
      "display_name": "Python 3"
    },
    "language_info": {
      "name": "python"
    }
  },
  "cells": [
    {
      "cell_type": "markdown",
      "source": [
        "# 🚀 Gender Classification with Zero-Shot Learning 🎯\n",
        "\n",
        "This Google Colab notebook demonstrates a simple gender classification task using a zero-shot learning approach. The objective is to classify sentences into three categories: sentences with a male subject 👨, sentences with a female subject 👩, and neutral sentences with an inanimate or non-gendered subject 🔄.\n",
        "\n",
        "We use the Hugging Face Transformers library 🤗 to build a classification pipeline and leverage a pre-trained zero-shot classifier model. The classifier is then applied to a small dataset of sentences to evaluate its performance in determining the gender or neutrality of the subjects.\n",
        "\n",
        "Lastly, we compute a confusion matrix 📊 to assess the accuracy of the classifier in this particular task, enabling us to understand its effectiveness in differentiating between male, female, and neutral subjects.\n",
        "\n",
        "Explore this notebook to learn how zero-shot learning can be applied to real-world classification tasks and achieve impressive results with minimal effort and data 🌟.\n"
      ],
      "metadata": {
        "id": "z57pTngvTqWc"
      }
    },
    {
      "cell_type": "markdown",
      "source": [
        "# install transformers lib"
      ],
      "metadata": {
        "id": "3-f6E2i_w5g_"
      }
    },
    {
      "cell_type": "code",
      "source": [
        "!pip install transformers"
      ],
      "metadata": {
        "colab": {
          "base_uri": "https://localhost:8080/"
        },
        "id": "u849MlQahRBF",
        "outputId": "03517998-aa82-450d-d39e-fa31a58c2465"
      },
      "execution_count": null,
      "outputs": [
        {
          "output_type": "stream",
          "name": "stdout",
          "text": [
            "Looking in indexes: https://pypi.org/simple, https://us-python.pkg.dev/colab-wheels/public/simple/\n",
            "Collecting transformers\n",
            "  Downloading transformers-4.27.3-py3-none-any.whl (6.8 MB)\n",
            "\u001b[2K     \u001b[90m━━━━━━━━━━━━━━━━━━━━━━━━━━━━━━━━━━━━━━━━\u001b[0m \u001b[32m6.8/6.8 MB\u001b[0m \u001b[31m34.0 MB/s\u001b[0m eta \u001b[36m0:00:00\u001b[0m\n",
            "\u001b[?25hRequirement already satisfied: requests in /usr/local/lib/python3.9/dist-packages (from transformers) (2.27.1)\n",
            "Requirement already satisfied: tqdm>=4.27 in /usr/local/lib/python3.9/dist-packages (from transformers) (4.65.0)\n",
            "Requirement already satisfied: packaging>=20.0 in /usr/local/lib/python3.9/dist-packages (from transformers) (23.0)\n",
            "Requirement already satisfied: regex!=2019.12.17 in /usr/local/lib/python3.9/dist-packages (from transformers) (2022.10.31)\n",
            "Collecting tokenizers!=0.11.3,<0.14,>=0.11.1\n",
            "  Downloading tokenizers-0.13.2-cp39-cp39-manylinux_2_17_x86_64.manylinux2014_x86_64.whl (7.6 MB)\n",
            "\u001b[2K     \u001b[90m━━━━━━━━━━━━━━━━━━━━━━━━━━━━━━━━━━━━━━━━\u001b[0m \u001b[32m7.6/7.6 MB\u001b[0m \u001b[31m44.4 MB/s\u001b[0m eta \u001b[36m0:00:00\u001b[0m\n",
            "\u001b[?25hRequirement already satisfied: filelock in /usr/local/lib/python3.9/dist-packages (from transformers) (3.10.1)\n",
            "Collecting huggingface-hub<1.0,>=0.11.0\n",
            "  Downloading huggingface_hub-0.13.3-py3-none-any.whl (199 kB)\n",
            "\u001b[2K     \u001b[90m━━━━━━━━━━━━━━━━━━━━━━━━━━━━━━━━━━━━━━\u001b[0m \u001b[32m199.8/199.8 KB\u001b[0m \u001b[31m10.1 MB/s\u001b[0m eta \u001b[36m0:00:00\u001b[0m\n",
            "\u001b[?25hRequirement already satisfied: numpy>=1.17 in /usr/local/lib/python3.9/dist-packages (from transformers) (1.22.4)\n",
            "Requirement already satisfied: pyyaml>=5.1 in /usr/local/lib/python3.9/dist-packages (from transformers) (6.0)\n",
            "Requirement already satisfied: typing-extensions>=3.7.4.3 in /usr/local/lib/python3.9/dist-packages (from huggingface-hub<1.0,>=0.11.0->transformers) (4.5.0)\n",
            "Requirement already satisfied: charset-normalizer~=2.0.0 in /usr/local/lib/python3.9/dist-packages (from requests->transformers) (2.0.12)\n",
            "Requirement already satisfied: idna<4,>=2.5 in /usr/local/lib/python3.9/dist-packages (from requests->transformers) (3.4)\n",
            "Requirement already satisfied: urllib3<1.27,>=1.21.1 in /usr/local/lib/python3.9/dist-packages (from requests->transformers) (1.26.15)\n",
            "Requirement already satisfied: certifi>=2017.4.17 in /usr/local/lib/python3.9/dist-packages (from requests->transformers) (2022.12.7)\n",
            "Installing collected packages: tokenizers, huggingface-hub, transformers\n",
            "Successfully installed huggingface-hub-0.13.3 tokenizers-0.13.2 transformers-4.27.3\n"
          ]
        }
      ]
    },
    {
      "cell_type": "markdown",
      "source": [
        "# create simple dataset of gendered and neutral sentences"
      ],
      "metadata": {
        "id": "Id-Wmaduw88q"
      }
    },
    {
      "cell_type": "code",
      "source": [
        "male_sentences = [    \"John is a great athlete.\",    \"Bob loves to play video games.\",    \"He is a doctor at the hospital.\",    \"David is a great cook.\",    \"My brother is an engineer.\",]\n",
        "\n",
        "female_sentences = [    \"Samantha is a great dancer.\",    \"Emily loves to read books.\",    \"She is a teacher at the school.\",    \"Laura is a great singer.\",    \"My sister is a nurse.\",]\n",
        "\n",
        "neutral_sentences = [    \"The sun is shining.\",    \"The book is on the table.\",    \"The car is parked outside.\",    \"The tree is tall.\",    \"The coffee is hot.\",]"
      ],
      "metadata": {
        "id": "oe5fFdkjhO2d"
      },
      "execution_count": null,
      "outputs": []
    },
    {
      "cell_type": "markdown",
      "source": [
        "# load classifier and classify on gender"
      ],
      "metadata": {
        "id": "hItGwHRBxAWC"
      }
    },
    {
      "cell_type": "markdown",
      "source": [
        "### deactivate warnings"
      ],
      "metadata": {
        "id": "t6nnlafGOeNQ"
      }
    },
    {
      "cell_type": "code",
      "source": [
        "import warnings\n",
        "# Set a global warning filter to ignore the UserWarning generated by the pipeline\n",
        "warnings.filterwarnings(\"ignore\", message=\"Length of IterableDataset\")"
      ],
      "metadata": {
        "id": "aECGRg_kOgvi"
      },
      "execution_count": null,
      "outputs": []
    },
    {
      "cell_type": "markdown",
      "source": [
        "### infer on dataset"
      ],
      "metadata": {
        "id": "-H2PHmR_t9Mi"
      }
    },
    {
      "cell_type": "code",
      "source": [
        "from transformers import pipeline\n",
        "\n",
        "# Load the zero-shot classification pipeline\n",
        "classifier = pipeline(\"zero-shot-classification\")\n",
        "\n",
        "# Define the candidate labels for the classification task\n",
        "label_1 = \"human male subject\"\n",
        "label_2 = \"human female subject\"\n",
        "label_3 = \"neutral or inanimate subject\"\n",
        "\n",
        "candidate_labels = [label_1, label_2, label_3]\n",
        "\n",
        "# Classify the male sentences\n",
        "male_results = classifier(male_sentences, candidate_labels)\n",
        "\n",
        "# Classify the female sentences\n",
        "female_results = classifier(female_sentences, candidate_labels)\n",
        "\n",
        "# Classify the neutral sentences\n",
        "neutral_results = classifier(neutral_sentences, candidate_labels)\n"
      ],
      "metadata": {
        "id": "sRZo4nNGhPZE"
      },
      "execution_count": null,
      "outputs": []
    },
    {
      "cell_type": "markdown",
      "source": [
        "# confusion matrix"
      ],
      "metadata": {
        "id": "s1GjpkOxuAfE"
      }
    },
    {
      "cell_type": "code",
      "source": [
        "from sklearn.metrics import confusion_matrix\n",
        "\n",
        "# Combine the results into a single list of predictions and ground truth labels\n",
        "predictions = []\n",
        "labels = []\n",
        "for result, category in [(male_results, label_1), (female_results, label_2), (neutral_results, label_3)]:\n",
        "    for r in result:\n",
        "        predictions.append(r[\"labels\"][0])\n",
        "        labels.append(category)\n",
        "\n",
        "# Compute the confusion matrix\n",
        "cm = confusion_matrix(labels, predictions, labels=[label_1, label_2, label_3])\n",
        "print(cm)\n"
      ],
      "metadata": {
        "colab": {
          "base_uri": "https://localhost:8080/"
        },
        "id": "vnd2d9xVhW1q",
        "outputId": "9650401e-3973-4142-9793-9260903d492f"
      },
      "execution_count": null,
      "outputs": [
        {
          "output_type": "stream",
          "name": "stdout",
          "text": [
            "[[5 0 0]\n",
            " [0 5 0]\n",
            " [0 0 5]]\n"
          ]
        }
      ]
    },
    {
      "cell_type": "code",
      "source": [
        "# incredible result of 100% accuracy !!!\n",
        "# [[5 0 0]\n",
        "#  [0 5 0]\n",
        "#  [0 0 5]]"
      ],
      "metadata": {
        "id": "pxl-a7tUivm6"
      },
      "execution_count": null,
      "outputs": []
    }
  ]
}